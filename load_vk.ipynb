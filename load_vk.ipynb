{
 "cells": [
  {
   "cell_type": "code",
   "execution_count": 1,
   "metadata": {},
   "outputs": [],
   "source": [
    "from src.old_vk_client import VkHelper\n",
    "from core import config\n",
    "from pandas import DataFrame\n",
    "from loguru import logger\n",
    "\n",
    "vk_client = VkHelper(\n",
    "    config.ID_APP,\n",
    "    config.VERSION,\n",
    "    config.ACCOUNT_ID,\n",
    "    config.ACCESS_TOKEN,\n",
    "    config.ID_CLIENT,\n",
    ")\n",
    "\n"
   ]
  },
  {
   "cell_type": "code",
   "execution_count": 2,
   "metadata": {},
   "outputs": [
    {
     "name": "stderr",
     "output_type": "stream",
     "text": [
      "\u001b[32m2025-03-25 23:44:47.083\u001b[0m | \u001b[1mINFO    \u001b[0m | \u001b[36msrc.old_vk_client\u001b[0m:\u001b[36mget_ads\u001b[0m:\u001b[36m41\u001b[0m - \u001b[1mЗапрос данных...\u001b[0m\n",
      "\u001b[32m2025-03-25 23:44:47.178\u001b[0m | \u001b[1mINFO    \u001b[0m | \u001b[36msrc.old_vk_client\u001b[0m:\u001b[36mget_campaign_names\u001b[0m:\u001b[36m59\u001b[0m - \u001b[1mПолучение имен компаний...\u001b[0m\n",
      "\u001b[32m2025-03-25 23:44:47.246\u001b[0m | \u001b[34m\u001b[1mDEBUG   \u001b[0m | \u001b[36msrc.old_vk_client\u001b[0m:\u001b[36mdata_proccesing\u001b[0m:\u001b[36m80\u001b[0m - \u001b[34m\u001b[1mЗапрос API: статистика компании...\u001b[0m\n",
      "\u001b[32m2025-03-25 23:44:48.718\u001b[0m | \u001b[1mINFO    \u001b[0m | \u001b[36msrc.old_vk_client\u001b[0m:\u001b[36mdata_proccesing\u001b[0m:\u001b[36m124\u001b[0m - \u001b[1mФормирование датафрейма завершено\u001b[0m\n",
      "\u001b[32m2025-03-25 23:44:48.722\u001b[0m | \u001b[1mINFO    \u001b[0m | \u001b[36m__main__\u001b[0m:\u001b[36mload_in_old_vk\u001b[0m:\u001b[36m10\u001b[0m - \u001b[1mЗапись csv файла завершена\u001b[0m\n"
     ]
    }
   ],
   "source": [
    "def load_in_old_vk():\n",
    "    \"\"\"Загрузка из старого р/кабинета вк\"\"\"\n",
    "  \n",
    "\n",
    "    stat_rows = vk_client.get_campaign_names()\n",
    "    df: DataFrame = vk_client.data_proccesing(\n",
    "        stat_rows, config.DATE_FROM, config.DATE_TO\n",
    "    )\n",
    "    df.to_csv(f\"loads/loading_({config.TODAY})_{config.TIME}.csv\")\n",
    "    logger.info(\"Запись csv файла завершена\")\n",
    "    \n",
    "   \n",
    "\n",
    "load_in_old_vk()"
   ]
  }
 ],
 "metadata": {
  "kernelspec": {
   "display_name": ".venv",
   "language": "python",
   "name": "python3"
  },
  "language_info": {
   "codemirror_mode": {
    "name": "ipython",
    "version": 3
   },
   "file_extension": ".py",
   "mimetype": "text/x-python",
   "name": "python",
   "nbconvert_exporter": "python",
   "pygments_lexer": "ipython3",
   "version": "3.11.11"
  }
 },
 "nbformat": 4,
 "nbformat_minor": 2
}
