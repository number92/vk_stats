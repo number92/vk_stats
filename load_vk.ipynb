{
 "cells": [
  {
   "cell_type": "code",
   "execution_count": 1,
   "metadata": {},
   "outputs": [],
   "source": [
    "from src.old_vk_client import VkHelper\n",
    "from core import config\n",
    "from pandas import DataFrame\n",
    "from loguru import logger\n",
    "\n",
    "vk_client = VkHelper(\n",
    "    config.ID_APP,\n",
    "    config.VERSION,\n",
    "    config.ACCOUNT_ID,\n",
    "    config.ACCESS_TOKEN,\n",
    "    config.ID_CLIENT,\n",
    ")\n",
    "\n"
   ]
  },
  {
   "cell_type": "code",
   "execution_count": null,
   "metadata": {},
   "outputs": [
    {
     "name": "stderr",
     "output_type": "stream",
     "text": [
      "\u001b[32m2025-03-26 11:54:14.917\u001b[0m | \u001b[1mINFO    \u001b[0m | \u001b[36msrc.old_vk_client\u001b[0m:\u001b[36mget_campaign_names\u001b[0m:\u001b[36m56\u001b[0m - \u001b[1mПолучение имен компаний...\u001b[0m\n"
     ]
    },
    {
     "ename": "TypeError",
     "evalue": "VkHelper.data_proccesing() takes 3 positional arguments but 4 were given",
     "output_type": "error",
     "traceback": [
      "\u001b[31m---------------------------------------------------------------------------\u001b[39m",
      "\u001b[31mTypeError\u001b[39m                                 Traceback (most recent call last)",
      "\u001b[36mCell\u001b[39m\u001b[36m \u001b[39m\u001b[32mIn[2]\u001b[39m\u001b[32m, line 14\u001b[39m\n\u001b[32m      9\u001b[39m     df.to_csv(\u001b[33mf\u001b[39m\u001b[33m\"\u001b[39m\u001b[33mloads/loading_(\u001b[39m\u001b[38;5;132;01m{\u001b[39;00mconfig.TODAY\u001b[38;5;132;01m}\u001b[39;00m\u001b[33m)_\u001b[39m\u001b[38;5;132;01m{\u001b[39;00mconfig.TIME\u001b[38;5;132;01m}\u001b[39;00m\u001b[33m.csv\u001b[39m\u001b[33m\"\u001b[39m)\n\u001b[32m     10\u001b[39m     logger.info(\u001b[33m\"\u001b[39m\u001b[33mЗапись csv файла завершена\u001b[39m\u001b[33m\"\u001b[39m)\n\u001b[32m---> \u001b[39m\u001b[32m14\u001b[39m \u001b[43mload_in_old_vk\u001b[49m\u001b[43m(\u001b[49m\u001b[43m)\u001b[49m\n",
      "\u001b[36mCell\u001b[39m\u001b[36m \u001b[39m\u001b[32mIn[2]\u001b[39m\u001b[32m, line 6\u001b[39m, in \u001b[36mload_in_old_vk\u001b[39m\u001b[34m()\u001b[39m\n\u001b[32m      2\u001b[39m \u001b[38;5;250m\u001b[39m\u001b[33;03m\"\"\"Загрузка из старого р/кабинета вк\"\"\"\u001b[39;00m\n\u001b[32m      5\u001b[39m stat_rows = vk_client.get_campaign_names()\n\u001b[32m----> \u001b[39m\u001b[32m6\u001b[39m df: DataFrame = \u001b[43mvk_client\u001b[49m\u001b[43m.\u001b[49m\u001b[43mdata_proccesing\u001b[49m\u001b[43m(\u001b[49m\n\u001b[32m      7\u001b[39m \u001b[43m    \u001b[49m\u001b[43mstat_rows\u001b[49m\u001b[43m,\u001b[49m\u001b[43m \u001b[49m\u001b[43mconfig\u001b[49m\u001b[43m.\u001b[49m\u001b[43mDATE_FROM\u001b[49m\u001b[43m,\u001b[49m\u001b[43m \u001b[49m\u001b[43mconfig\u001b[49m\u001b[43m.\u001b[49m\u001b[43mDATE_TO\u001b[49m\n\u001b[32m      8\u001b[39m \u001b[43m\u001b[49m\u001b[43m)\u001b[49m\n\u001b[32m      9\u001b[39m df.to_csv(\u001b[33mf\u001b[39m\u001b[33m\"\u001b[39m\u001b[33mloads/loading_(\u001b[39m\u001b[38;5;132;01m{\u001b[39;00mconfig.TODAY\u001b[38;5;132;01m}\u001b[39;00m\u001b[33m)_\u001b[39m\u001b[38;5;132;01m{\u001b[39;00mconfig.TIME\u001b[38;5;132;01m}\u001b[39;00m\u001b[33m.csv\u001b[39m\u001b[33m\"\u001b[39m)\n\u001b[32m     10\u001b[39m logger.info(\u001b[33m\"\u001b[39m\u001b[33mЗапись csv файла завершена\u001b[39m\u001b[33m\"\u001b[39m)\n",
      "\u001b[31mTypeError\u001b[39m: VkHelper.data_proccesing() takes 3 positional arguments but 4 were given"
     ]
    }
   ],
   "source": [
    "def load_in_old_vk():\n",
    "    \"\"\"Загрузка из старого р/кабинета вк\"\"\"\n",
    "  \n",
    "    df: DataFrame = vk_client.data_proccesing(config.DATE_FROM, config.DATE_TO)\n",
    "    df.to_csv(f\"loads/loading_({config.TODAY})_{config.TIME}.csv\")\n",
    "    logger.info(\"Запись csv файла завершена\")\n",
    "    \n",
    "   \n",
    "\n",
    "load_in_old_vk()"
   ]
  }
 ],
 "metadata": {
  "kernelspec": {
   "display_name": ".venv",
   "language": "python",
   "name": "python3"
  },
  "language_info": {
   "codemirror_mode": {
    "name": "ipython",
    "version": 3
   },
   "file_extension": ".py",
   "mimetype": "text/x-python",
   "name": "python",
   "nbconvert_exporter": "python",
   "pygments_lexer": "ipython3",
   "version": "3.11.8"
  }
 },
 "nbformat": 4,
 "nbformat_minor": 2
}
