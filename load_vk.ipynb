{
    "cells": [
        {
            "cell_type": "code",
            "execution_count": null,
            "metadata": {},
            "outputs": [],
            "source": [
                "from src.old_vk_client import VkHelper\n",
                "from core import config\n",
                "from pandas import DataFrame\n",
                "from loguru import logger\n",
                "\n",
                "vk_client = VkHelper(\n",
                "    config.ID_APP,\n",
                "    config.VERSION,\n",
                "    config.ACCOUNT_ID,\n",
                "    config.ACCESS_TOKEN,\n",
                "    config.ID_CLIENT,\n",
                ")"
            ]
        },
        {
            "cell_type": "code",
            "execution_count": null,
            "metadata": {},
            "outputs": [],
            "source": [
                "def load_in_old_vk():\n",
                "    \"\"\"Загрузка из старого р/кабинета вк\"\"\"\n",
                "\n",
                "    df: DataFrame = vk_client.data_proccesing(config.DATE_FROM, config.DATE_TO)\n",
                "    df.to_csv(f\"loads/loading_({config.TODAY})_{config.TIME}.csv\")\n",
                "    logger.info(\"Запись csv файла завершена\")\n",
                "\n",
                "\n",
                "load_in_old_vk()"
            ]
        }
    ],
    "metadata": {
        "kernelspec": {
            "display_name": ".venv",
            "language": "python",
            "name": "python3"
        },
        "language_info": {
            "codemirror_mode": {
                "name": "ipython",
                "version": 3
            },
            "file_extension": ".py",
            "mimetype": "text/x-python",
            "name": "python",
            "nbconvert_exporter": "python",
            "pygments_lexer": "ipython3",
            "version": "3.11.8"
        }
    },
    "nbformat": 4,
    "nbformat_minor": 2
}
