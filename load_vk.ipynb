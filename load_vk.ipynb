{
 "cells": [
  {
   "cell_type": "code",
   "execution_count": 2,
   "metadata": {},
   "outputs": [],
   "source": [
    "from src.old_vk_client import VkHelper\n",
    "from core import config\n",
    "from pandas import DataFrame\n",
    "from loguru import logger\n",
    "\n",
    "vk_client = VkHelper(\n",
    "    config.ID_APP,\n",
    "    config.VERSION,\n",
    "    config.ACCOUNT_ID,\n",
    "    config.ACCESS_TOKEN,\n",
    "    config.ID_CLIENT,\n",
    ")\n",
    "\n"
   ]
  },
  {
   "cell_type": "code",
   "execution_count": 3,
   "metadata": {},
   "outputs": [
    {
     "name": "stderr",
     "output_type": "stream",
     "text": [
      "\u001b[32m2025-03-26 21:18:20.463\u001b[0m | \u001b[1mINFO    \u001b[0m | \u001b[36msrc.old_vk_client\u001b[0m:\u001b[36mget_ads\u001b[0m:\u001b[36m41\u001b[0m - \u001b[1mЗапрос данных...\u001b[0m\n",
      "\u001b[32m2025-03-26 21:18:20.539\u001b[0m | \u001b[31m\u001b[1mERROR   \u001b[0m | \u001b[36msrc.utils\u001b[0m:\u001b[36mraise_err_by_code\u001b[0m:\u001b[36m14\u001b[0m - \u001b[31m\u001b[1mUser authorization failed: access_token has expired.\u001b[0m\n",
      "\u001b[32m2025-03-26 21:18:20.540\u001b[0m | \u001b[31m\u001b[1mERROR   \u001b[0m | \u001b[36msrc.old_vk_client\u001b[0m:\u001b[36mget_campaign_names\u001b[0m:\u001b[36m74\u001b[0m - \u001b[31m\u001b[1mОшибкаUser authorization failed: access_token has expired.\u001b[0m\n"
     ]
    },
    {
     "name": "stdout",
     "output_type": "stream",
     "text": [
      "link for update token:\n",
      " https://oauth.vk.com/authorize?client_id=51688892&display=page&redirect_uri=https://oauth.vk.com/blank.html&scope=ads&response_type=token&v=5.131\n"
     ]
    },
    {
     "ename": "KeyError",
     "evalue": "'Ошибка при получение id компаний: User authorization failed: access_token has expired.'",
     "output_type": "error",
     "traceback": [
      "\u001b[31m---------------------------------------------------------------------------\u001b[39m",
      "\u001b[31mBadTokenException\u001b[39m                         Traceback (most recent call last)",
      "\u001b[36mFile \u001b[39m\u001b[32m~/Dev/vk_stats/src/old_vk_client.py:56\u001b[39m, in \u001b[36mVkHelper.get_campaign_names\u001b[39m\u001b[34m(self)\u001b[39m\n\u001b[32m     55\u001b[39m \u001b[38;5;28;01mtry\u001b[39;00m:\n\u001b[32m---> \u001b[39m\u001b[32m56\u001b[39m     comp_ids_stat = \u001b[38;5;28;43mself\u001b[39;49m\u001b[43m.\u001b[49m\u001b[43mget_ads\u001b[49m\u001b[43m(\u001b[49m\u001b[43m)\u001b[49m\n\u001b[32m     57\u001b[39m     logger.info(\u001b[33m\"\u001b[39m\u001b[33mПолучение имен компаний...\u001b[39m\u001b[33m\"\u001b[39m)\n",
      "\u001b[36mFile \u001b[39m\u001b[32m~/Dev/vk_stats/src/old_vk_client.py:46\u001b[39m, in \u001b[36mVkHelper.get_ads\u001b[39m\u001b[34m(self)\u001b[39m\n\u001b[32m     45\u001b[39m \u001b[38;5;28;01mif\u001b[39;00m er := response.get(\u001b[33m\"\u001b[39m\u001b[33merror\u001b[39m\u001b[33m\"\u001b[39m):\n\u001b[32m---> \u001b[39m\u001b[32m46\u001b[39m     \u001b[43mraise_err_by_code\u001b[49m\u001b[43m(\u001b[49m\u001b[43mer\u001b[49m\u001b[43m)\u001b[49m\n\u001b[32m     48\u001b[39m ad_campaign_dict = {}\n",
      "\u001b[36mFile \u001b[39m\u001b[32m~/Dev/vk_stats/src/utils.py:19\u001b[39m, in \u001b[36mraise_err_by_code\u001b[39m\u001b[34m(err)\u001b[39m\n\u001b[32m     18\u001b[39m     \u001b[38;5;28mprint\u001b[39m(\u001b[33mf\u001b[39m\u001b[33m\"\u001b[39m\u001b[33mlink for update token:\u001b[39m\u001b[38;5;130;01m\\n\u001b[39;00m\u001b[33m \u001b[39m\u001b[38;5;132;01m{\u001b[39;00mURL\u001b[38;5;132;01m}\u001b[39;00m\u001b[33m\"\u001b[39m)\n\u001b[32m---> \u001b[39m\u001b[32m19\u001b[39m     \u001b[38;5;28;01mraise\u001b[39;00m BadTokenException(err_msg)\n\u001b[32m     21\u001b[39m \u001b[38;5;28;01melif\u001b[39;00m code == \u001b[32m9\u001b[39m:\n",
      "\u001b[31mBadTokenException\u001b[39m: User authorization failed: access_token has expired.",
      "\nDuring handling of the above exception, another exception occurred:\n",
      "\u001b[31mKeyError\u001b[39m                                  Traceback (most recent call last)",
      "\u001b[36mCell\u001b[39m\u001b[36m \u001b[39m\u001b[32mIn[3]\u001b[39m\u001b[32m, line 15\u001b[39m\n\u001b[32m     10\u001b[39m     df.to_csv(load_dir)\n\u001b[32m     11\u001b[39m     logger.info(\u001b[33m\"\u001b[39m\u001b[33mЗапись csv файла завершена\u001b[39m\u001b[33m\"\u001b[39m)\n\u001b[32m---> \u001b[39m\u001b[32m15\u001b[39m \u001b[43mload_in_old_vk\u001b[49m\u001b[43m(\u001b[49m\u001b[43m)\u001b[49m\n",
      "\u001b[36mCell\u001b[39m\u001b[36m \u001b[39m\u001b[32mIn[3]\u001b[39m\u001b[32m, line 5\u001b[39m, in \u001b[36mload_in_old_vk\u001b[39m\u001b[34m()\u001b[39m\n\u001b[32m      1\u001b[39m \u001b[38;5;28;01mdef\u001b[39;00m\u001b[38;5;250m \u001b[39m\u001b[34mload_in_old_vk\u001b[39m():\n\u001b[32m      2\u001b[39m \u001b[38;5;250m    \u001b[39m\u001b[33;03m\"\"\"Загрузка из старого р/кабинета вк\"\"\"\u001b[39;00m\n\u001b[32m----> \u001b[39m\u001b[32m5\u001b[39m     stat_rows = \u001b[43mvk_client\u001b[49m\u001b[43m.\u001b[49m\u001b[43mget_campaign_names\u001b[49m\u001b[43m(\u001b[49m\u001b[43m)\u001b[49m\n\u001b[32m      6\u001b[39m     df: DataFrame = vk_client.data_proccesing(\n\u001b[32m      7\u001b[39m         stat_rows, config.DATE_FROM, config.DATE_TO\n\u001b[32m      8\u001b[39m     )\n\u001b[32m      9\u001b[39m     load_dir = config.BASE_DIR / \u001b[33m\"\u001b[39m\u001b[33mloads\u001b[39m\u001b[33m\"\u001b[39m / \u001b[33mf\u001b[39m\u001b[33m\"\u001b[39m\u001b[33mloading_(\u001b[39m\u001b[38;5;132;01m{\u001b[39;00mconfig.TODAY\u001b[38;5;132;01m}\u001b[39;00m\u001b[33m)_\u001b[39m\u001b[38;5;132;01m{\u001b[39;00mconfig.TIME\u001b[38;5;132;01m}\u001b[39;00m\u001b[33m.csv\u001b[39m\u001b[33m\"\u001b[39m\n",
      "\u001b[36mFile \u001b[39m\u001b[32m~/Dev/vk_stats/src/old_vk_client.py:75\u001b[39m, in \u001b[36mVkHelper.get_campaign_names\u001b[39m\u001b[34m(self)\u001b[39m\n\u001b[32m     73\u001b[39m \u001b[38;5;28;01mexcept\u001b[39;00m \u001b[38;5;167;01mException\u001b[39;00m \u001b[38;5;28;01mas\u001b[39;00m err:\n\u001b[32m     74\u001b[39m     logger.error(\u001b[33mf\u001b[39m\u001b[33m\"\u001b[39m\u001b[33mОшибка\u001b[39m\u001b[38;5;132;01m{\u001b[39;00merr\u001b[38;5;132;01m}\u001b[39;00m\u001b[33m\"\u001b[39m)\n\u001b[32m---> \u001b[39m\u001b[32m75\u001b[39m     \u001b[38;5;28;01mraise\u001b[39;00m \u001b[38;5;167;01mKeyError\u001b[39;00m(\u001b[33mf\u001b[39m\u001b[33m\"\u001b[39m\u001b[33mОшибка при получение id компаний: \u001b[39m\u001b[38;5;132;01m{\u001b[39;00merr\u001b[38;5;132;01m}\u001b[39;00m\u001b[33m\"\u001b[39m)\n\u001b[32m     76\u001b[39m \u001b[38;5;28;01mreturn\u001b[39;00m result_stat_rows\n",
      "\u001b[31mKeyError\u001b[39m: 'Ошибка при получение id компаний: User authorization failed: access_token has expired.'"
     ]
    }
   ],
   "source": [
    "def load_in_old_vk():\n",
    "    \"\"\"Загрузка из старого р/кабинета вк\"\"\"\n",
    "  \n",
    "\n",
    "    stat_rows = vk_client.get_campaign_names()\n",
    "    df: DataFrame = vk_client.data_proccesing(\n",
    "        stat_rows, config.DATE_FROM, config.DATE_TO\n",
    "    )\n",
    "    load_dir = config.BASE_DIR / \"loads\" / f\"loading_({config.TODAY})_{config.TIME}.csv\"\n",
    "    df.to_csv(load_dir)\n",
    "    logger.info(\"Запись csv файла завершена\")\n",
    "    \n",
    "   \n",
    "\n",
    "load_in_old_vk()"
   ]
  }
 ],
 "metadata": {
  "kernelspec": {
   "display_name": ".venv",
   "language": "python",
   "name": "python3"
  },
  "language_info": {
   "codemirror_mode": {
    "name": "ipython",
    "version": 3
   },
   "file_extension": ".py",
   "mimetype": "text/x-python",
   "name": "python",
   "nbconvert_exporter": "python",
   "pygments_lexer": "ipython3",
   "version": "3.11.11"
  }
 },
 "nbformat": 4,
 "nbformat_minor": 2
}
