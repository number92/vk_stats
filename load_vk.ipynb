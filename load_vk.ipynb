{
 "cells": [
  {
   "cell_type": "code",
   "execution_count": 3,
   "metadata": {},
   "outputs": [],
   "source": [
    "from src.old_vk_client import VkHelper\n",
    "from core import config\n",
    "from pandas import DataFrame\n",
    "\n",
    "vk_client = VkHelper(\n",
    "    config.ID_APP,\n",
    "    config.VERSION,\n",
    "    config.ACCOUNT_ID,\n",
    "    config.ACCESS_TOKEN,\n",
    "    config.ID_CLIENT,\n",
    ")\n",
    "\n"
   ]
  },
  {
   "cell_type": "code",
   "execution_count": 4,
   "metadata": {},
   "outputs": [
    {
     "name": "stderr",
     "output_type": "stream",
     "text": [
      "\u001b[32m2025-03-25 14:45:52.662\u001b[0m | \u001b[1mINFO    \u001b[0m | \u001b[36msrc.old_vk_client\u001b[0m:\u001b[36mget_ads\u001b[0m:\u001b[36m41\u001b[0m - \u001b[1mЗапрос данных...\u001b[0m\n",
      "\u001b[32m2025-03-25 14:45:53.150\u001b[0m | \u001b[1mINFO    \u001b[0m | \u001b[36msrc.old_vk_client\u001b[0m:\u001b[36mget_campaign_names\u001b[0m:\u001b[36m62\u001b[0m - \u001b[1mПолучение имен компаний...\u001b[0m\n",
      "\u001b[32m2025-03-25 14:45:53.369\u001b[0m | \u001b[34m\u001b[1mDEBUG   \u001b[0m | \u001b[36msrc.old_vk_client\u001b[0m:\u001b[36mdata_proccesing\u001b[0m:\u001b[36m83\u001b[0m - \u001b[34m\u001b[1mЗапрос API: статистика компании...\u001b[0m\n"
     ]
    }
   ],
   "source": [
    "def load_in_old_vk():\n",
    "    \"\"\"Загрузка из старого р/кабинета вк\"\"\"\n",
    "    try:\n",
    "\n",
    "        stat_rows = vk_client.get_campaign_names()\n",
    "        df: DataFrame = vk_client.data_proccesing(\n",
    "            stat_rows, config.DATE_FROM, config.DATE_TO\n",
    "        )\n",
    "        if not df.empty:\n",
    "            df.to_csv(f\"loads/loading_({config.TODAY})_{config.TIME}.csv\")\n",
    "\n",
    "    except Exception as err:\n",
    "        print(err)\n",
    "\n",
    "load_in_old_vk()"
   ]
  }
 ],
 "metadata": {
  "kernelspec": {
   "display_name": ".venv",
   "language": "python",
   "name": "python3"
  },
  "language_info": {
   "codemirror_mode": {
    "name": "ipython",
    "version": 3
   },
   "file_extension": ".py",
   "mimetype": "text/x-python",
   "name": "python",
   "nbconvert_exporter": "python",
   "pygments_lexer": "ipython3",
   "version": "3.11.8"
  }
 },
 "nbformat": 4,
 "nbformat_minor": 2
}
